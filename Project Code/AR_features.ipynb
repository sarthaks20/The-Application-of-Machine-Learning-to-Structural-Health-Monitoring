{
 "cells": [
  {
   "cell_type": "code",
   "execution_count": 1,
   "metadata": {},
   "outputs": [],
   "source": [
    "import numpy as np\n",
    "import pandas as pd\n",
    "import matplotlib.pyplot as plt\n",
    "%matplotlib widget"
   ]
  },
  {
   "cell_type": "code",
   "execution_count": 2,
   "metadata": {},
   "outputs": [],
   "source": [
    "dofs = 8\n",
    "num_states = 5\n",
    "num_time_histories = 100 # Number of time-histories"
   ]
  },
  {
   "cell_type": "code",
   "execution_count": 3,
   "metadata": {},
   "outputs": [],
   "source": [
    "# Processing columns data to fit ARX Model\n",
    "\n",
    "\n",
    "def get_feature_df(state):\n",
    "    features = state.copy()\n",
    "    features.columns = [f\"y{i+1}(k)\" for i in range(dofs)]\n",
    "    for i in range(dofs):\n",
    "        features[f\"y{i+1}(k-1)\"] = features[f\"y{i+1}(k)\"].shift()\n",
    "        features[f\"y{i+1}(k-2)\"] = features[f\"y{i+1}(k)\"].shift(2)\n",
    "    features.drop(columns=[f\"y{i+1}(k)\" for i in range(1, dofs)], inplace=True)\n",
    "    features.dropna(inplace=True)\n",
    "    return features"
   ]
  },
  {
   "cell_type": "code",
   "execution_count": 4,
   "metadata": {},
   "outputs": [],
   "source": [
    "from sklearn.linear_model import LinearRegression\n",
    "\n",
    "sigma = np.zeros((num_time_histories, num_states, dofs)) # STD of residual errors | all masses | size = dofs\n",
    "for time_history in range(num_time_histories):\n",
    "    state0 = pd.read_csv(f\"datasets/state0_datasets/state0_acceleration_timehistory{time_history+1}.csv\", index_col=\"Time\")\n",
    "    features0 = get_feature_df(state0)\n",
    "    model_parameters = [] # list of fitted models | all masses | size = dofs\n",
    "    for i in range(dofs):\n",
    "        model = LinearRegression().fit(features0.values,(state0[[f'm{i+1}']].values)[2:])\n",
    "        model_parameters.append(model)\n",
    "\n",
    "    for state in range(num_states):\n",
    "        state_df = pd.read_csv(f\"datasets/state{state}_datasets/state{state}_acceleration_timehistory{time_history+1}.csv\", index_col=\"Time\")\n",
    "        features_df = get_feature_df(state_df)\n",
    "        for i in range(dofs):\n",
    "            predicted = model_parameters[i].predict(features_df.values)\n",
    "            measured = (state_df[[f'm{i+1}']].values)[2:]\n",
    "            residual = measured - predicted\n",
    "            sigma[time_history][state][i] = np.std(residual)\n",
    "\n",
    "sigma_ratio = np.copy(sigma)\n",
    "for time_history in range(num_time_histories):\n",
    "    sigma_ratio[time_history] = sigma_ratio[time_history]/sigma_ratio[time_history][0]\n"
   ]
  },
  {
   "cell_type": "code",
   "execution_count": 5,
   "metadata": {},
   "outputs": [
    {
     "data": {
      "text/plain": [
       "array([[6.79208552e-15, 4.50867176e-12, 4.33151070e-12, 4.32734159e-12,\n",
       "        4.52014184e-12, 4.51337054e-12, 4.33750221e-12, 2.54998838e-12],\n",
       "       [6.79184336e-15, 8.11485978e-06, 3.76176220e-04, 3.76921226e-04,\n",
       "        3.08788294e-04, 3.08624370e-04, 4.74973117e-06, 3.56668479e-06],\n",
       "       [6.79280162e-15, 1.68237664e-05, 7.74130567e-04, 7.75538775e-04,\n",
       "        6.32647835e-04, 6.32241755e-04, 9.82714278e-06, 7.40571814e-06],\n",
       "       [6.79469831e-15, 3.63220570e-05, 1.64207181e-03, 1.64440327e-03,\n",
       "        1.31739122e-03, 1.31609543e-03, 2.10840752e-05, 1.60360358e-05],\n",
       "       [6.79500030e-15, 1.19859417e-04, 4.76595756e-03, 4.76534311e-03,\n",
       "        3.13528788e-03, 3.12520887e-03, 6.67757210e-05, 5.34336812e-05]])"
      ]
     },
     "execution_count": 5,
     "metadata": {},
     "output_type": "execute_result"
    }
   ],
   "source": [
    "sigma[1]"
   ]
  },
  {
   "cell_type": "code",
   "execution_count": 6,
   "metadata": {},
   "outputs": [],
   "source": [
    "sigma_df = pd.DataFrame(columns = [\"health\", \"state\"] + [f\"sigma_m{i+1}\" for i in range(dofs)])\n",
    "\n",
    "for time_history in range(num_time_histories):\n",
    "   temp = pd.DataFrame(sigma[time_history], columns = [f\"sigma_m{i+1}\" for i in range(dofs)])\n",
    "   sigma_df = sigma_df.append(temp, ignore_index=True)\n",
    "   \n",
    "sigma_df[\"health\"] = ([0] + [1] * (num_states - 1)) * num_time_histories\n",
    "sigma_df[\"state\"] = [i for i in range(num_states)] * num_time_histories\n",
    "sigma_df.to_csv(\"datasets/ARX_feature_sigma.csv\", index=False)"
   ]
  },
  {
   "cell_type": "code",
   "execution_count": 7,
   "metadata": {},
   "outputs": [],
   "source": [
    "sigma_ratio_df = pd.DataFrame(columns = [\"health\", \"state\"] + [f\"std_ratio_m{i+1}\" for i in range(dofs)])\n",
    "\n",
    "for time_history in range(num_time_histories):\n",
    "   temp = pd.DataFrame(sigma_ratio[time_history], columns = [f\"std_ratio_m{i+1}\" for i in range(dofs)])\n",
    "   sigma_ratio_df = sigma_ratio_df.append(temp, ignore_index=True)\n",
    "   \n",
    "sigma_ratio_df[\"health\"] = ([0] + [1] * (num_states - 1)) * num_time_histories\n",
    "sigma_ratio_df[\"state\"] = [i for i in range(num_states)] * num_time_histories\n",
    "\n",
    "sigma_ratio_df.to_csv(\"datasets/ARX_feature_sigma_ratio.csv\", index=False)"
   ]
  },
  {
   "cell_type": "code",
   "execution_count": 8,
   "metadata": {},
   "outputs": [
    {
     "data": {
      "text/plain": [
       "0      0\n",
       "1      1\n",
       "2      1\n",
       "3      1\n",
       "4      1\n",
       "      ..\n",
       "495    0\n",
       "496    1\n",
       "497    1\n",
       "498    1\n",
       "499    1\n",
       "Name: health, Length: 500, dtype: int64"
      ]
     },
     "execution_count": 8,
     "metadata": {},
     "output_type": "execute_result"
    }
   ],
   "source": [
    "X = sigma_df.iloc[:,2:]\n",
    "y = sigma_df['health']\n",
    "\n",
    "Xr = sigma_ratio_df.iloc[:,2:]\n",
    "yr = sigma_ratio_df['health']\n",
    "y"
   ]
  },
  {
   "cell_type": "code",
   "execution_count": 9,
   "metadata": {},
   "outputs": [
    {
     "data": {
      "text/html": [
       "<div>\n",
       "<style scoped>\n",
       "    .dataframe tbody tr th:only-of-type {\n",
       "        vertical-align: middle;\n",
       "    }\n",
       "\n",
       "    .dataframe tbody tr th {\n",
       "        vertical-align: top;\n",
       "    }\n",
       "\n",
       "    .dataframe thead th {\n",
       "        text-align: right;\n",
       "    }\n",
       "</style>\n",
       "<table border=\"1\" class=\"dataframe\">\n",
       "  <thead>\n",
       "    <tr style=\"text-align: right;\">\n",
       "      <th></th>\n",
       "      <th>0</th>\n",
       "      <th>Score</th>\n",
       "    </tr>\n",
       "  </thead>\n",
       "  <tbody>\n",
       "    <tr>\n",
       "      <th>0</th>\n",
       "      <td>sigma_m1</td>\n",
       "      <td>5.079583e-19</td>\n",
       "    </tr>\n",
       "    <tr>\n",
       "      <th>1</th>\n",
       "      <td>sigma_m2</td>\n",
       "      <td>4.533423e-03</td>\n",
       "    </tr>\n",
       "    <tr>\n",
       "      <th>2</th>\n",
       "      <td>sigma_m3</td>\n",
       "      <td>1.885778e-01</td>\n",
       "    </tr>\n",
       "    <tr>\n",
       "      <th>3</th>\n",
       "      <td>sigma_m4</td>\n",
       "      <td>1.886736e-01</td>\n",
       "    </tr>\n",
       "    <tr>\n",
       "      <th>4</th>\n",
       "      <td>sigma_m5</td>\n",
       "      <td>1.335551e-01</td>\n",
       "    </tr>\n",
       "    <tr>\n",
       "      <th>5</th>\n",
       "      <td>sigma_m6</td>\n",
       "      <td>1.332800e-01</td>\n",
       "    </tr>\n",
       "    <tr>\n",
       "      <th>6</th>\n",
       "      <td>sigma_m7</td>\n",
       "      <td>2.561916e-03</td>\n",
       "    </tr>\n",
       "    <tr>\n",
       "      <th>7</th>\n",
       "      <td>sigma_m8</td>\n",
       "      <td>2.013518e-03</td>\n",
       "    </tr>\n",
       "  </tbody>\n",
       "</table>\n",
       "</div>"
      ],
      "text/plain": [
       "          0         Score\n",
       "0  sigma_m1  5.079583e-19\n",
       "1  sigma_m2  4.533423e-03\n",
       "2  sigma_m3  1.885778e-01\n",
       "3  sigma_m4  1.886736e-01\n",
       "4  sigma_m5  1.335551e-01\n",
       "5  sigma_m6  1.332800e-01\n",
       "6  sigma_m7  2.561916e-03\n",
       "7  sigma_m8  2.013518e-03"
      ]
     },
     "execution_count": 9,
     "metadata": {},
     "output_type": "execute_result"
    }
   ],
   "source": [
    "# AR Feature Selection\n",
    "\n",
    "# Chi-squared\n",
    "\n",
    "from sklearn.feature_selection import SelectKBest\n",
    "from sklearn.feature_selection import chi2\n",
    "\n",
    "ordered_rank_features = SelectKBest(score_func=chi2, k=8)\n",
    "ordered_features = ordered_rank_features.fit(X, y)\n",
    "score1 = pd.DataFrame(ordered_features.scores_, columns=[\"Score\"])\n",
    "score1 = pd.concat([pd.DataFrame(X.columns), score1], axis = 1)\n",
    "score1"
   ]
  },
  {
   "cell_type": "code",
   "execution_count": 10,
   "metadata": {},
   "outputs": [
    {
     "data": {
      "text/plain": [
       "<AxesSubplot:>"
      ]
     },
     "execution_count": 10,
     "metadata": {},
     "output_type": "execute_result"
    },
    {
     "data": {
      "application/vnd.jupyter.widget-view+json": {
       "model_id": "e92e4ed7579e4221ba8940da3ace5f0d",
       "version_major": 2,
       "version_minor": 0
      },
      "image/png": "[encoded data removed]",
      "text/plain": [
       "Canvas(toolbar=Toolbar(toolitems=[('Home', 'Reset original view', 'home', 'home'), ('Back', 'Back to previous …"
      ]
     },
     "metadata": {},
     "output_type": "display_data"
    }
   ],
   "source": [
    "# Feature Importance\n",
    "\n",
    "from sklearn.ensemble import ExtraTreesClassifier\n",
    "model = ExtraTreesClassifier()\n",
    "model.fit(X, y)\n",
    "ranked_features = pd.Series(model.feature_importances_, index=X.columns)\n",
    "ranked_features.plot(kind='barh')"
   ]
  },
  {
   "cell_type": "code",
   "execution_count": 11,
   "metadata": {},
   "outputs": [],
   "source": [
    "# Pearson's Correlation\n",
    "\n",
    "import seaborn as sns\n",
    "\n",
    "corr_df = pd.concat([sigma_ratio_df[\"health\"], sigma_ratio_df.iloc[:, 2:]], axis = 1)\n",
    "corr_df = corr_df.corr()\n",
    "#plt.figure(figsize=(10,10))\n",
    "#sns.heatmap(corr_df[corr_df.index].corr(), annot=True)"
   ]
  },
  {
   "cell_type": "code",
   "execution_count": 12,
   "metadata": {},
   "outputs": [
    {
     "data": {
      "text/plain": [
       "sigma_ratio_m1    0.486576\n",
       "sigma_ratio_m2    0.501404\n",
       "sigma_ratio_m3    0.501404\n",
       "sigma_ratio_m4    0.501404\n",
       "sigma_ratio_m5    0.501404\n",
       "sigma_ratio_m6    0.501404\n",
       "sigma_ratio_m7    0.501404\n",
       "sigma_ratio_m8    0.501404\n",
       "dtype: float64"
      ]
     },
     "execution_count": 12,
     "metadata": {},
     "output_type": "execute_result"
    }
   ],
   "source": [
    "# Information Gain\n",
    "\n",
    "from sklearn.feature_selection import mutual_info_classif\n",
    "\n",
    "mutual_info = mutual_info_classif(Xr, yr)\n",
    "mutual_info_df = pd.Series(mutual_info, index=Xr.columns)\n",
    "mutual_info_df"
   ]
  }
 ],
 "metadata": {
  "interpreter": {
   "hash": "fef2b79d4b8aba2f4d8accbe580003d55e4ed00dc8ce6016da82634380bf1a43"
  },
  "kernelspec": {
   "display_name": "Python 3.9.7 64-bit",
   "name": "python3"
  },
  "language_info": {
   "codemirror_mode": {
    "name": "ipython",
    "version": 3
   },
   "file_extension": ".py",
   "mimetype": "text/x-python",
   "name": "python",
   "nbconvert_exporter": "python",
   "pygments_lexer": "ipython3",
   "version": "3.9.7"
  },
  "orig_nbformat": 4
 },
 "nbformat": 4,
 "nbformat_minor": 2
}
