{
 "cells": [
  {
   "cell_type": "code",
   "execution_count": 1,
   "metadata": {},
   "outputs": [],
   "source": [
    "import numpy as np\n",
    "import pandas as pd\n",
    "import scipy.linalg as la\n",
    "import scipy.signal as signal\n",
    "import math\n",
    "import matplotlib.pyplot as plt"
   ]
  },
  {
   "cell_type": "code",
   "execution_count": 2,
   "metadata": {},
   "outputs": [],
   "source": [
    "dof = 8\n",
    "zeta = np.array([[0.05] * dof])  # Considering 5% modal damping ratios for all modes\n",
    "time_step = 0.001\n",
    "end_time = 100.0  # Simulation time = 100 sec\n",
    "T = np.arange(0.0, end_time + time_step, time_step)  # Time-Steps Array\n",
    "X0 = np.zeros(2*dof)  # Initial contidions\n",
    "num_time_histories = 100 # Number of time-histories"
   ]
  },
  {
   "cell_type": "code",
   "execution_count": 3,
   "metadata": {},
   "outputs": [],
   "source": [
    "# Force (White Gaussian Noise (mean = 0.0, variance = 1.0)) applied on m1\n",
    "# Creating a data-frame with rows as time-stamps and columns as forces for different time-histories\n",
    "\n",
    "force_matrix = np.zeros((len(T), num_time_histories))\n",
    "for i in range(0, num_time_histories):\n",
    "    force_matrix[:, i] = np.random.normal(0.0, 1.0, len(T))\n",
    "columns = [f\"F{i}\" for i in range(1, num_time_histories + 1)]\n",
    "force_df = pd.DataFrame(force_matrix, columns = columns)\n",
    "force_df.insert(0, \"Time\", T)\n",
    "force_df.to_csv(\"force_dataframe.csv\", index = False)\n"
   ]
  }
 ],
 "metadata": {
  "interpreter": {
   "hash": "fef2b79d4b8aba2f4d8accbe580003d55e4ed00dc8ce6016da82634380bf1a43"
  },
  "kernelspec": {
   "display_name": "Python 3.9.7 64-bit",
   "name": "python3"
  },
  "language_info": {
   "codemirror_mode": {
    "name": "ipython",
    "version": 3
   },
   "file_extension": ".py",
   "mimetype": "text/x-python",
   "name": "python",
   "nbconvert_exporter": "python",
   "pygments_lexer": "ipython3",
   "version": "3.9.7"
  },
  "orig_nbformat": 4
 },
 "nbformat": 4,
 "nbformat_minor": 2
}
