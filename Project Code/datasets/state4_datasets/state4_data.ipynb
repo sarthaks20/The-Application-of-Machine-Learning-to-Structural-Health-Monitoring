{
 "cells": [
  {
   "cell_type": "code",
   "execution_count": 1,
   "metadata": {},
   "outputs": [],
   "source": [
    "import numpy as np\n",
    "import pandas as pd\n",
    "import scipy.linalg as la\n",
    "import scipy.signal as signal\n",
    "import math\n",
    "import matplotlib.pyplot as plt"
   ]
  },
  {
   "cell_type": "code",
   "execution_count": 2,
   "metadata": {},
   "outputs": [],
   "source": [
    "def vibration_modes(K, M):\n",
    "    w2, Phi = la.eigh(K, M)\n",
    "    omega = np.sqrt(np.abs(w2))\n",
    "    frequencies = omega / (2 * math.pi)\n",
    "    return omega, frequencies, Phi\n",
    "\n",
    "\n",
    "def compute_damping_matrix(omega, Phi, zeta):\n",
    "    omega = np.diagflat(omega)\n",
    "    zeta = np.diagflat(zeta)\n",
    "    Cd_modal = 2 * (omega @ zeta)\n",
    "    Cd = la.inv(Phi.T) @ (Cd_modal @ la.inv(Phi))\n",
    "    return Cd\n",
    "\n",
    "\n",
    "def vibration_response_statespace(M, K, Cd, dof, X0, T, F):\n",
    "    A = np.zeros((2 * dof, 2 * dof))\n",
    "    A[0:dof, dof : 2 * dof] = np.eye(dof)\n",
    "    A[dof : 2 * dof, 0:dof] = -(la.inv(M)) @ K\n",
    "    A[dof : 2 * dof, dof : 2 * dof] = -(la.inv(M)) @ Cd\n",
    "\n",
    "    B = np.zeros((2 * dof, dof))\n",
    "    B[dof : 2 * dof, :] = la.inv(M)\n",
    "\n",
    "    C = np.zeros((dof, 2 * dof))\n",
    "    C[:, 0:dof] = -(la.inv(M)) @ K\n",
    "    C[:, dof : 2 * dof] = -(la.inv(M)) @ Cd\n",
    "\n",
    "    D = la.inv(M)\n",
    "\n",
    "    sys = signal.StateSpace(A, B, C, D)\n",
    "    T, acceleration, X = signal.lsim(sys, F, T, X0)\n",
    "    displacement = X[:, 0:dof]\n",
    "    velocity = X[:, dof : 2 * dof]\n",
    "\n",
    "    return acceleration, velocity, displacement\n"
   ]
  },
  {
   "cell_type": "code",
   "execution_count": 3,
   "metadata": {},
   "outputs": [],
   "source": [
    "dof = 8\n",
    "zeta = np.array([[0.05] * dof])  # Considering 5% modal damping ratios for all modes\n",
    "time_step = 0.001\n",
    "end_time = 100.0  # Simulation time = 100 sec\n",
    "T = np.arange(0.0, end_time + time_step, time_step)  # Time-Steps Array\n",
    "X0 = np.zeros(\n",
    "    2 * dof\n",
    ")  # Initial contidions {Dispalcement = X0[:, 0 : dof], Velocity = X0[:, dof : 2*dof]}\n",
    "num_time_histories = 100  # Number of time-histories\n"
   ]
  },
  {
   "cell_type": "code",
   "execution_count": 4,
   "metadata": {},
   "outputs": [],
   "source": [
    "# Load Force-time histories\n",
    "\n",
    "force_df = pd.read_csv(\"../force_dataframe.csv\")\n"
   ]
  },
  {
   "cell_type": "code",
   "execution_count": 5,
   "metadata": {},
   "outputs": [],
   "source": [
    "# State #4 - Damaged (50% stiffness reduction in spring 3 and 5)\n",
    "\n",
    "m_1 = 0.4900\n",
    "m_2 = m_3 = m_4 = m_5 = m_6 = m_7 = m_8 = 0.4652\n",
    "\n",
    "k_1 = k_2 = k_4 = k_6 = k_7 = k = 5500.0\n",
    "k_3 = k_5 = 0.50 * k\n",
    "\n",
    "M = np.array(\n",
    "    [\n",
    "        [m_1, 0.0, 0.0, 0.0, 0.0, 0.0, 0.0, 0.0],\n",
    "        [0.0, m_2, 0.0, 0.0, 0.0, 0.0, 0.0, 0.0],\n",
    "        [0.0, 0.0, m_3, 0.0, 0.0, 0.0, 0.0, 0.0],\n",
    "        [0.0, 0.0, 0.0, m_4, 0.0, 0.0, 0.0, 0.0],\n",
    "        [0.0, 0.0, 0.0, 0.0, m_5, 0.0, 0.0, 0.0],\n",
    "        [0.0, 0.0, 0.0, 0.0, 0.0, m_6, 0.0, 0.0],\n",
    "        [0.0, 0.0, 0.0, 0.0, 0.0, 0.0, m_7, 0.0],\n",
    "        [0.0, 0.0, 0.0, 0.0, 0.0, 0.0, 0.0, m_8],\n",
    "    ]\n",
    ")\n",
    "\n",
    "K4 = np.array(\n",
    "    [\n",
    "        [k_1, -k_1, 0.0, 0.0, 0.0, 0.0, 0.0, 0.0],\n",
    "        [-k_1, k_1 + k_2, -k_2, 0.0, 0.0, 0.0, 0.0, 0.0],\n",
    "        [0.0, -k_2, k_2 + k_3, -k_3, 0.0, 0.0, 0.0, 0.0],\n",
    "        [0.0, 0.0, -k_3, k_3 + k_4, -k_4, 0.0, 0.0, 0.0],\n",
    "        [0.0, 0.0, 0.0, -k_4, k_4 + k_5, -k_5, 0.0, 0.0],\n",
    "        [0.0, 0.0, 0.0, 0.0, -k_5, k_5 + k_6, -k_6, 0.0],\n",
    "        [0.0, 0.0, 0.0, 0.0, 0.0, -k_6, k_6 + k_7, -k_7],\n",
    "        [0.0, 0.0, 0.0, 0.0, 0.0, 0.0, -k_7, k_7],\n",
    "    ]\n",
    ")\n",
    "\n",
    "omega4, frequencies4, Phi4 = vibration_modes(K4, M)\n",
    "Cd4 = compute_damping_matrix(omega4, Phi4, zeta)\n"
   ]
  },
  {
   "cell_type": "code",
   "execution_count": 6,
   "metadata": {},
   "outputs": [],
   "source": [
    "modal_properties = pd.DataFrame(Phi4, columns = [f\"mode {j}\" for j in range(1, dof + 1)])\n",
    "modal_properties.insert(0, \"Frequencies\", frequencies4)\n",
    "modal_properties.to_csv(\"state4_modal_properties.csv\", index = False)"
   ]
  },
  {
   "cell_type": "code",
   "execution_count": 7,
   "metadata": {},
   "outputs": [],
   "source": [
    "# Acceleration, Velocity and Displacement responses\n",
    "\n",
    "for i in range(1, num_time_histories + 1):\n",
    "    F = np.zeros((len(T), dof))\n",
    "    F[:, 0] = force_df[f\"F{i}\"]\n",
    "    acceleration4, velocity4, displacement4 = vibration_response_statespace(\n",
    "        M, K4, Cd4, dof, X0, T, F\n",
    "    )\n",
    "    columns = [f\"m{j}\" for j in range(1, dof + 1)]\n",
    "\n",
    "    acceleration4_df = pd.DataFrame(acceleration4, columns=columns)\n",
    "    acceleration4_df.insert(0, \"Time\", T)\n",
    "    acceleration4_df.to_csv(f\"state4_acceleration_timehistory{i}.csv\", index=False)\n",
    "\n",
    "    velocity4_df = pd.DataFrame(velocity4, columns=columns)\n",
    "    velocity4_df.insert(0, \"Time\", T)\n",
    "    velocity4_df.to_csv(f\"state4_velocity_timehistory{i}.csv\", index=False)\n",
    "\n",
    "    displacement4_df = pd.DataFrame(displacement4, columns=columns)\n",
    "    displacement4_df.insert(0, \"Time\", T)\n",
    "    displacement4_df.to_csv(f\"state4_displacement_timehistory{i}.csv\", index=False)\n"
   ]
  }
 ],
 "metadata": {
  "interpreter": {
   "hash": "fef2b79d4b8aba2f4d8accbe580003d55e4ed00dc8ce6016da82634380bf1a43"
  },
  "kernelspec": {
   "display_name": "Python 3.9.7 64-bit",
   "name": "python3"
  },
  "language_info": {
   "codemirror_mode": {
    "name": "ipython",
    "version": 3
   },
   "file_extension": ".py",
   "mimetype": "text/x-python",
   "name": "python",
   "nbconvert_exporter": "python",
   "pygments_lexer": "ipython3",
   "version": "3.9.7"
  },
  "orig_nbformat": 4
 },
 "nbformat": 4,
 "nbformat_minor": 2
}
